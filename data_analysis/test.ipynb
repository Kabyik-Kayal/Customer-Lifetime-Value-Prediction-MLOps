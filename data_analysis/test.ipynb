{
 "cells": [
  {
   "cell_type": "code",
   "execution_count": 1,
   "metadata": {},
   "outputs": [],
   "source": [
    "import os\n",
    "import pandas as pd\n",
    "import numpy as np\n",
    "from src.feature_engineering import CLTVFeatureEngineering"
   ]
  },
  {
   "cell_type": "code",
   "execution_count": 2,
   "metadata": {},
   "outputs": [],
   "source": [
    "file_path = '/home/kabyik/Desktop/customer-lifecycle-management/data/Online_Retail.xlsx'\n",
    "if os.path.exists(file_path):\n",
    "    df = pd.read_excel(file_path)\n",
    "else:\n",
    "    print(f\"File not found: {file_path}\")"
   ]
  },
  {
   "cell_type": "code",
   "execution_count": 3,
   "metadata": {},
   "outputs": [],
   "source": [
    "from src.drop_columns import ColumnDropper\n",
    "from src.handle_missing_values import DropMissingValues\n",
    "from src.outlier_detection import OutlierDetector\n"
   ]
  },
  {
   "cell_type": "code",
   "execution_count": 4,
   "metadata": {},
   "outputs": [],
   "source": [
    "df_copy = df.copy()"
   ]
  },
  {
   "cell_type": "code",
   "execution_count": 5,
   "metadata": {},
   "outputs": [
    {
     "data": {
      "text/html": [
       "<div>\n",
       "<style scoped>\n",
       "    .dataframe tbody tr th:only-of-type {\n",
       "        vertical-align: middle;\n",
       "    }\n",
       "\n",
       "    .dataframe tbody tr th {\n",
       "        vertical-align: top;\n",
       "    }\n",
       "\n",
       "    .dataframe thead th {\n",
       "        text-align: right;\n",
       "    }\n",
       "</style>\n",
       "<table border=\"1\" class=\"dataframe\">\n",
       "  <thead>\n",
       "    <tr style=\"text-align: right;\">\n",
       "      <th></th>\n",
       "      <th>InvoiceNo</th>\n",
       "      <th>StockCode</th>\n",
       "      <th>Description</th>\n",
       "      <th>Quantity</th>\n",
       "      <th>InvoiceDate</th>\n",
       "      <th>UnitPrice</th>\n",
       "      <th>CustomerID</th>\n",
       "      <th>Country</th>\n",
       "    </tr>\n",
       "  </thead>\n",
       "  <tbody>\n",
       "    <tr>\n",
       "      <th>0</th>\n",
       "      <td>536365</td>\n",
       "      <td>85123A</td>\n",
       "      <td>WHITE HANGING HEART T-LIGHT HOLDER</td>\n",
       "      <td>6</td>\n",
       "      <td>2010-12-01 08:26:00</td>\n",
       "      <td>2.55</td>\n",
       "      <td>17850.0</td>\n",
       "      <td>United Kingdom</td>\n",
       "    </tr>\n",
       "    <tr>\n",
       "      <th>1</th>\n",
       "      <td>536365</td>\n",
       "      <td>71053</td>\n",
       "      <td>WHITE METAL LANTERN</td>\n",
       "      <td>6</td>\n",
       "      <td>2010-12-01 08:26:00</td>\n",
       "      <td>3.39</td>\n",
       "      <td>17850.0</td>\n",
       "      <td>United Kingdom</td>\n",
       "    </tr>\n",
       "    <tr>\n",
       "      <th>2</th>\n",
       "      <td>536365</td>\n",
       "      <td>84406B</td>\n",
       "      <td>CREAM CUPID HEARTS COAT HANGER</td>\n",
       "      <td>8</td>\n",
       "      <td>2010-12-01 08:26:00</td>\n",
       "      <td>2.75</td>\n",
       "      <td>17850.0</td>\n",
       "      <td>United Kingdom</td>\n",
       "    </tr>\n",
       "    <tr>\n",
       "      <th>3</th>\n",
       "      <td>536365</td>\n",
       "      <td>84029G</td>\n",
       "      <td>KNITTED UNION FLAG HOT WATER BOTTLE</td>\n",
       "      <td>6</td>\n",
       "      <td>2010-12-01 08:26:00</td>\n",
       "      <td>3.39</td>\n",
       "      <td>17850.0</td>\n",
       "      <td>United Kingdom</td>\n",
       "    </tr>\n",
       "    <tr>\n",
       "      <th>4</th>\n",
       "      <td>536365</td>\n",
       "      <td>84029E</td>\n",
       "      <td>RED WOOLLY HOTTIE WHITE HEART.</td>\n",
       "      <td>6</td>\n",
       "      <td>2010-12-01 08:26:00</td>\n",
       "      <td>3.39</td>\n",
       "      <td>17850.0</td>\n",
       "      <td>United Kingdom</td>\n",
       "    </tr>\n",
       "  </tbody>\n",
       "</table>\n",
       "</div>"
      ],
      "text/plain": [
       "  InvoiceNo StockCode                          Description  Quantity  \\\n",
       "0    536365    85123A   WHITE HANGING HEART T-LIGHT HOLDER         6   \n",
       "1    536365     71053                  WHITE METAL LANTERN         6   \n",
       "2    536365    84406B       CREAM CUPID HEARTS COAT HANGER         8   \n",
       "3    536365    84029G  KNITTED UNION FLAG HOT WATER BOTTLE         6   \n",
       "4    536365    84029E       RED WOOLLY HOTTIE WHITE HEART.         6   \n",
       "\n",
       "          InvoiceDate  UnitPrice  CustomerID         Country  \n",
       "0 2010-12-01 08:26:00       2.55     17850.0  United Kingdom  \n",
       "1 2010-12-01 08:26:00       3.39     17850.0  United Kingdom  \n",
       "2 2010-12-01 08:26:00       2.75     17850.0  United Kingdom  \n",
       "3 2010-12-01 08:26:00       3.39     17850.0  United Kingdom  \n",
       "4 2010-12-01 08:26:00       3.39     17850.0  United Kingdom  "
      ]
     },
     "execution_count": 5,
     "metadata": {},
     "output_type": "execute_result"
    }
   ],
   "source": [
    "df_copy.head()"
   ]
  },
  {
   "cell_type": "code",
   "execution_count": 6,
   "metadata": {},
   "outputs": [
    {
     "name": "stderr",
     "output_type": "stream",
     "text": [
      "2024-12-07 15:41:30,386 - INFO - Attempting to drop columns: ['InvoiceNo', 'StockCode', 'Description', 'Country']\n",
      "2024-12-07 15:41:30,392 - INFO - Columns successfully dropped: ['InvoiceNo', 'StockCode', 'Description', 'Country']\n"
     ]
    }
   ],
   "source": [
    "dropper = ColumnDropper(['InvoiceNo', 'StockCode','Description', 'Country'])\n",
    "df_dropped = dropper.drop_columns(df_copy)"
   ]
  },
  {
   "cell_type": "code",
   "execution_count": 7,
   "metadata": {},
   "outputs": [
    {
     "data": {
      "text/html": [
       "<div>\n",
       "<style scoped>\n",
       "    .dataframe tbody tr th:only-of-type {\n",
       "        vertical-align: middle;\n",
       "    }\n",
       "\n",
       "    .dataframe tbody tr th {\n",
       "        vertical-align: top;\n",
       "    }\n",
       "\n",
       "    .dataframe thead th {\n",
       "        text-align: right;\n",
       "    }\n",
       "</style>\n",
       "<table border=\"1\" class=\"dataframe\">\n",
       "  <thead>\n",
       "    <tr style=\"text-align: right;\">\n",
       "      <th></th>\n",
       "      <th>Quantity</th>\n",
       "      <th>InvoiceDate</th>\n",
       "      <th>UnitPrice</th>\n",
       "      <th>CustomerID</th>\n",
       "    </tr>\n",
       "  </thead>\n",
       "  <tbody>\n",
       "    <tr>\n",
       "      <th>0</th>\n",
       "      <td>6</td>\n",
       "      <td>2010-12-01 08:26:00</td>\n",
       "      <td>2.55</td>\n",
       "      <td>17850.0</td>\n",
       "    </tr>\n",
       "    <tr>\n",
       "      <th>1</th>\n",
       "      <td>6</td>\n",
       "      <td>2010-12-01 08:26:00</td>\n",
       "      <td>3.39</td>\n",
       "      <td>17850.0</td>\n",
       "    </tr>\n",
       "    <tr>\n",
       "      <th>2</th>\n",
       "      <td>8</td>\n",
       "      <td>2010-12-01 08:26:00</td>\n",
       "      <td>2.75</td>\n",
       "      <td>17850.0</td>\n",
       "    </tr>\n",
       "    <tr>\n",
       "      <th>3</th>\n",
       "      <td>6</td>\n",
       "      <td>2010-12-01 08:26:00</td>\n",
       "      <td>3.39</td>\n",
       "      <td>17850.0</td>\n",
       "    </tr>\n",
       "    <tr>\n",
       "      <th>4</th>\n",
       "      <td>6</td>\n",
       "      <td>2010-12-01 08:26:00</td>\n",
       "      <td>3.39</td>\n",
       "      <td>17850.0</td>\n",
       "    </tr>\n",
       "  </tbody>\n",
       "</table>\n",
       "</div>"
      ],
      "text/plain": [
       "   Quantity         InvoiceDate  UnitPrice  CustomerID\n",
       "0         6 2010-12-01 08:26:00       2.55     17850.0\n",
       "1         6 2010-12-01 08:26:00       3.39     17850.0\n",
       "2         8 2010-12-01 08:26:00       2.75     17850.0\n",
       "3         6 2010-12-01 08:26:00       3.39     17850.0\n",
       "4         6 2010-12-01 08:26:00       3.39     17850.0"
      ]
     },
     "execution_count": 7,
     "metadata": {},
     "output_type": "execute_result"
    }
   ],
   "source": [
    "df_dropped.head()"
   ]
  },
  {
   "cell_type": "code",
   "execution_count": 8,
   "metadata": {},
   "outputs": [],
   "source": [
    "df_dropped[\"Amount\"] = df_dropped[\"Quantity\"] * df_dropped[\"UnitPrice\"]"
   ]
  },
  {
   "cell_type": "code",
   "execution_count": 9,
   "metadata": {},
   "outputs": [],
   "source": [
    "df_transformed = df_dropped.copy()\n",
    "df_transformed['InvoiceDate'] = pd.to_datetime(df_transformed['InvoiceDate'])"
   ]
  },
  {
   "cell_type": "code",
   "execution_count": 10,
   "metadata": {},
   "outputs": [
    {
     "name": "stdout",
     "output_type": "stream",
     "text": [
      "     CustomerID         InvoiceDate                             Amount\n",
      "                                min                 max count      sum\n",
      "0       12346.0 2011-01-18 10:01:00 2011-01-18 10:17:00     2     0.00\n",
      "1       12347.0 2010-12-07 14:57:00 2011-12-07 15:52:00   182  4310.00\n",
      "2       12348.0 2010-12-16 19:09:00 2011-09-25 13:13:00    31  1797.24\n",
      "3       12349.0 2011-11-21 09:51:00 2011-11-21 09:51:00    73  1757.55\n",
      "4       12350.0 2011-02-02 16:01:00 2011-02-02 16:01:00    17   334.40\n",
      "...         ...                 ...                 ...   ...      ...\n",
      "4367    18280.0 2011-03-07 09:52:00 2011-03-07 09:52:00    10   180.60\n",
      "4368    18281.0 2011-06-12 10:53:00 2011-06-12 10:53:00     7    80.82\n",
      "4369    18282.0 2011-08-05 13:35:00 2011-12-02 11:43:00    13   176.60\n",
      "4370    18283.0 2011-01-06 14:14:00 2011-12-06 12:02:00   756  2094.88\n",
      "4371    18287.0 2011-05-22 10:39:00 2011-10-28 09:29:00    70  1837.28\n",
      "\n",
      "[4372 rows x 5 columns]\n"
     ]
    }
   ],
   "source": [
    "# Group by CustomerID and aggregate the data\n",
    "df_grouped = df_dropped.groupby('CustomerID').agg({\n",
    "    'InvoiceDate': ['min','max','count'],\n",
    "    'Amount': 'sum'\n",
    "}).reset_index()\n",
    "\n",
    "print(df_grouped)"
   ]
  },
  {
   "cell_type": "code",
   "execution_count": 11,
   "metadata": {},
   "outputs": [
    {
     "name": "stdout",
     "output_type": "stream",
     "text": [
      "<class 'pandas.core.frame.DataFrame'>\n",
      "RangeIndex: 4372 entries, 0 to 4371\n",
      "Data columns (total 5 columns):\n",
      " #   Column                Non-Null Count  Dtype         \n",
      "---  ------                --------------  -----         \n",
      " 0   (CustomerID, )        4372 non-null   float64       \n",
      " 1   (InvoiceDate, min)    4372 non-null   datetime64[ns]\n",
      " 2   (InvoiceDate, max)    4372 non-null   datetime64[ns]\n",
      " 3   (InvoiceDate, count)  4372 non-null   int64         \n",
      " 4   (Amount, sum)         4372 non-null   float64       \n",
      "dtypes: datetime64[ns](2), float64(2), int64(1)\n",
      "memory usage: 170.9 KB\n"
     ]
    }
   ],
   "source": [
    "df_grouped.info()"
   ]
  },
  {
   "cell_type": "code",
   "execution_count": 12,
   "metadata": {},
   "outputs": [
    {
     "name": "stdout",
     "output_type": "stream",
     "text": [
      "2011-12-09 12:50:00\n"
     ]
    }
   ],
   "source": [
    "current_date = df_dropped['InvoiceDate'].max()\n",
    "print(current_date)"
   ]
  },
  {
   "cell_type": "code",
   "execution_count": null,
   "metadata": {},
   "outputs": [],
   "source": []
  },
  {
   "cell_type": "code",
   "execution_count": 13,
   "metadata": {},
   "outputs": [
    {
     "data": {
      "text/html": [
       "<div>\n",
       "<style scoped>\n",
       "    .dataframe tbody tr th:only-of-type {\n",
       "        vertical-align: middle;\n",
       "    }\n",
       "\n",
       "    .dataframe tbody tr th {\n",
       "        vertical-align: top;\n",
       "    }\n",
       "\n",
       "    .dataframe thead th {\n",
       "        text-align: right;\n",
       "    }\n",
       "</style>\n",
       "<table border=\"1\" class=\"dataframe\">\n",
       "  <thead>\n",
       "    <tr style=\"text-align: right;\">\n",
       "      <th></th>\n",
       "      <th>Quantity</th>\n",
       "      <th>InvoiceDate</th>\n",
       "      <th>UnitPrice</th>\n",
       "      <th>CustomerID</th>\n",
       "      <th>Amount</th>\n",
       "    </tr>\n",
       "  </thead>\n",
       "  <tbody>\n",
       "    <tr>\n",
       "      <th>0</th>\n",
       "      <td>6</td>\n",
       "      <td>2010-12-01 08:26:00</td>\n",
       "      <td>2.55</td>\n",
       "      <td>17850.0</td>\n",
       "      <td>15.30</td>\n",
       "    </tr>\n",
       "    <tr>\n",
       "      <th>1</th>\n",
       "      <td>6</td>\n",
       "      <td>2010-12-01 08:26:00</td>\n",
       "      <td>3.39</td>\n",
       "      <td>17850.0</td>\n",
       "      <td>20.34</td>\n",
       "    </tr>\n",
       "    <tr>\n",
       "      <th>2</th>\n",
       "      <td>8</td>\n",
       "      <td>2010-12-01 08:26:00</td>\n",
       "      <td>2.75</td>\n",
       "      <td>17850.0</td>\n",
       "      <td>22.00</td>\n",
       "    </tr>\n",
       "    <tr>\n",
       "      <th>3</th>\n",
       "      <td>6</td>\n",
       "      <td>2010-12-01 08:26:00</td>\n",
       "      <td>3.39</td>\n",
       "      <td>17850.0</td>\n",
       "      <td>20.34</td>\n",
       "    </tr>\n",
       "    <tr>\n",
       "      <th>4</th>\n",
       "      <td>6</td>\n",
       "      <td>2010-12-01 08:26:00</td>\n",
       "      <td>3.39</td>\n",
       "      <td>17850.0</td>\n",
       "      <td>20.34</td>\n",
       "    </tr>\n",
       "  </tbody>\n",
       "</table>\n",
       "</div>"
      ],
      "text/plain": [
       "   Quantity         InvoiceDate  UnitPrice  CustomerID  Amount\n",
       "0         6 2010-12-01 08:26:00       2.55     17850.0   15.30\n",
       "1         6 2010-12-01 08:26:00       3.39     17850.0   20.34\n",
       "2         8 2010-12-01 08:26:00       2.75     17850.0   22.00\n",
       "3         6 2010-12-01 08:26:00       3.39     17850.0   20.34\n",
       "4         6 2010-12-01 08:26:00       3.39     17850.0   20.34"
      ]
     },
     "execution_count": 13,
     "metadata": {},
     "output_type": "execute_result"
    }
   ],
   "source": [
    "df_dropped.head()"
   ]
  },
  {
   "cell_type": "code",
   "execution_count": 14,
   "metadata": {},
   "outputs": [
    {
     "name": "stderr",
     "output_type": "stream",
     "text": [
      "2024-12-07 15:41:30,537 - INFO - Applying feature engineering strategy.\n",
      "2024-12-07 15:41:30,539 - INFO - Creating CLTV features\n",
      "2024-12-07 15:41:30,637 - INFO - CLTV feature engineering completed\n"
     ]
    },
    {
     "name": "stdout",
     "output_type": "stream",
     "text": [
      "      CustomerID  frequency  total_amount  avg_order_value  recency  \\\n",
      "0        12346.0          2          0.00         0.000000      325   \n",
      "1        12347.0        182       4310.00        23.681319        1   \n",
      "2        12348.0         31       1797.24        57.975484       74   \n",
      "3        12349.0         73       1757.55        24.076027       18   \n",
      "4        12350.0         17        334.40        19.670588      309   \n",
      "...          ...        ...           ...              ...      ...   \n",
      "4367     18280.0         10        180.60        18.060000      277   \n",
      "4368     18281.0          7         80.82        11.545714      180   \n",
      "4369     18282.0         13        176.60        13.584615        7   \n",
      "4370     18283.0        756       2094.88         2.771005        3   \n",
      "4371     18287.0         70       1837.28        26.246857       42   \n",
      "\n",
      "      customer_age  lifetime  purchase_frequency      CLTV  \n",
      "0              325         0            0.043077      0.00  \n",
      "1              366       365            3.480874  30170.00  \n",
      "2              357       283            0.607843  12580.68  \n",
      "3               18         0           28.388889  12302.85  \n",
      "4              309         0            0.385113   2340.80  \n",
      "...            ...       ...                 ...       ...  \n",
      "4367           277         0            0.252708   1264.20  \n",
      "4368           180         0            0.272222    565.74  \n",
      "4369           125       118            0.728000   1236.20  \n",
      "4370           336       333           15.750000  14664.16  \n",
      "4371           201       159            2.437811  12860.96  \n",
      "\n",
      "[4369 rows x 9 columns]\n"
     ]
    }
   ],
   "source": [
    "from src.feature_engineering import CLTVFeatureEngineering,FeatureEngineer\n",
    "cltv_fea = FeatureEngineer(CLTVFeatureEngineering('CustomerID','InvoiceDate','Amount'))\n",
    "df_grouped1 = cltv_fea.apply_feature_engineering(df_dropped)\n",
    "print(df_grouped1)"
   ]
  },
  {
   "cell_type": "code",
   "execution_count": 15,
   "metadata": {},
   "outputs": [
    {
     "name": "stdout",
     "output_type": "stream",
     "text": [
      "<class 'pandas.core.frame.DataFrame'>\n",
      "Index: 4369 entries, 0 to 4371\n",
      "Data columns (total 9 columns):\n",
      " #   Column              Non-Null Count  Dtype  \n",
      "---  ------              --------------  -----  \n",
      " 0   CustomerID          4369 non-null   float64\n",
      " 1   frequency           4369 non-null   int64  \n",
      " 2   total_amount        4369 non-null   float64\n",
      " 3   avg_order_value     4369 non-null   float64\n",
      " 4   recency             4369 non-null   int64  \n",
      " 5   customer_age        4369 non-null   int64  \n",
      " 6   lifetime            4369 non-null   int64  \n",
      " 7   purchase_frequency  4369 non-null   float64\n",
      " 8   CLTV                4369 non-null   float64\n",
      "dtypes: float64(5), int64(4)\n",
      "memory usage: 341.3 KB\n"
     ]
    }
   ],
   "source": [
    "df_grouped1.info()"
   ]
  },
  {
   "cell_type": "code",
   "execution_count": 16,
   "metadata": {},
   "outputs": [
    {
     "name": "stdout",
     "output_type": "stream",
     "text": [
      "Empty DataFrame\n",
      "Columns: [CustomerID, frequency, total_amount, avg_order_value, recency, customer_age, lifetime, purchase_frequency, CLTV]\n",
      "Index: []\n"
     ]
    }
   ],
   "source": [
    "print(df_grouped1[df_grouped1['CLTV'].isnull()])"
   ]
  },
  {
   "cell_type": "code",
   "execution_count": 17,
   "metadata": {},
   "outputs": [
    {
     "name": "stdout",
     "output_type": "stream",
     "text": [
      "     CustomerID         InvoiceDate                            Amount\n",
      "                                min                 max count     sum\n",
      "301     12713.0 2011-12-09 12:16:00 2011-12-09 12:16:00    38  848.55\n",
      "723     13298.0 2011-12-08 13:11:00 2011-12-08 13:11:00     2  360.00\n",
      "1649    14569.0 2011-12-08 14:58:00 2011-12-08 14:58:00    12  227.39\n"
     ]
    }
   ],
   "source": [
    "df_filtered = df_grouped[df_grouped['CustomerID'].isin([12713.0, 13298.0, 14569.0])]\n",
    "print(df_filtered)"
   ]
  },
  {
   "cell_type": "code",
   "execution_count": 18,
   "metadata": {},
   "outputs": [
    {
     "name": "stdout",
     "output_type": "stream",
     "text": [
      "      CustomerID  frequency  total_amount  avg_order_value  recency  \\\n",
      "0        12346.0          2          0.00         0.000000      325   \n",
      "1        12347.0        182       4310.00        23.681319        1   \n",
      "2        12348.0         31       1797.24        57.975484       74   \n",
      "3        12349.0         73       1757.55        24.076027       18   \n",
      "4        12350.0         17        334.40        19.670588      309   \n",
      "...          ...        ...           ...              ...      ...   \n",
      "4367     18280.0         10        180.60        18.060000      277   \n",
      "4368     18281.0          7         80.82        11.545714      180   \n",
      "4369     18282.0         13        176.60        13.584615        7   \n",
      "4370     18283.0        756       2094.88         2.771005        3   \n",
      "4371     18287.0         70       1837.28        26.246857       42   \n",
      "\n",
      "      customer_age  lifetime  purchase_frequency      CLTV  \n",
      "0              325         0            0.043077      0.00  \n",
      "1              366       365            3.480874  30170.00  \n",
      "2              357       283            0.607843  12580.68  \n",
      "3               18         0           28.388889  12302.85  \n",
      "4              309         0            0.385113   2340.80  \n",
      "...            ...       ...                 ...       ...  \n",
      "4367           277         0            0.252708   1264.20  \n",
      "4368           180         0            0.272222    565.74  \n",
      "4369           125       118            0.728000   1236.20  \n",
      "4370           336       333           15.750000  14664.16  \n",
      "4371           201       159            2.437811  12860.96  \n",
      "\n",
      "[4369 rows x 9 columns]\n"
     ]
    }
   ],
   "source": [
    "df_grouped1 = df_grouped1.dropna(subset=['CLTV'])\n",
    "print(df_grouped1)"
   ]
  },
  {
   "cell_type": "code",
   "execution_count": 19,
   "metadata": {},
   "outputs": [
    {
     "name": "stdout",
     "output_type": "stream",
     "text": [
      "<class 'pandas.core.frame.DataFrame'>\n",
      "Index: 4369 entries, 0 to 4371\n",
      "Data columns (total 9 columns):\n",
      " #   Column              Non-Null Count  Dtype  \n",
      "---  ------              --------------  -----  \n",
      " 0   CustomerID          4369 non-null   float64\n",
      " 1   frequency           4369 non-null   int64  \n",
      " 2   total_amount        4369 non-null   float64\n",
      " 3   avg_order_value     4369 non-null   float64\n",
      " 4   recency             4369 non-null   int64  \n",
      " 5   customer_age        4369 non-null   int64  \n",
      " 6   lifetime            4369 non-null   int64  \n",
      " 7   purchase_frequency  4369 non-null   float64\n",
      " 8   CLTV                4369 non-null   float64\n",
      "dtypes: float64(5), int64(4)\n",
      "memory usage: 341.3 KB\n"
     ]
    }
   ],
   "source": [
    "df_grouped1.info()"
   ]
  },
  {
   "cell_type": "code",
   "execution_count": null,
   "metadata": {},
   "outputs": [],
   "source": []
  }
 ],
 "metadata": {
  "kernelspec": {
   "display_name": "myenv",
   "language": "python",
   "name": "python3"
  },
  "language_info": {
   "codemirror_mode": {
    "name": "ipython",
    "version": 3
   },
   "file_extension": ".py",
   "mimetype": "text/x-python",
   "name": "python",
   "nbconvert_exporter": "python",
   "pygments_lexer": "ipython3",
   "version": "3.10.15"
  }
 },
 "nbformat": 4,
 "nbformat_minor": 2
}
